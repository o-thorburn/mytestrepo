{
 "cells": [
  {
   "cell_type": "code",
   "execution_count": null,
   "metadata": {},
   "outputs": [],
   "source": [
    "#Boolean\n",
    "i = 21\n",
    "j = 7"
   ]
  },
  {
   "cell_type": "code",
   "execution_count": null,
   "metadata": {},
   "outputs": [],
   "source": [
    "i > j"
   ]
  },
  {
   "cell_type": "code",
   "execution_count": null,
   "metadata": {},
   "outputs": [],
   "source": [
    "i >= j"
   ]
  },
  {
   "cell_type": "code",
   "execution_count": null,
   "metadata": {},
   "outputs": [],
   "source": [
    "i < j"
   ]
  },
  {
   "cell_type": "code",
   "execution_count": null,
   "metadata": {},
   "outputs": [],
   "source": [
    "i <= j"
   ]
  },
  {
   "cell_type": "code",
   "execution_count": null,
   "metadata": {},
   "outputs": [],
   "source": [
    "i == j"
   ]
  },
  {
   "cell_type": "code",
   "execution_count": null,
   "metadata": {},
   "outputs": [],
   "source": [
    "i != j"
   ]
  },
  {
   "cell_type": "code",
   "execution_count": null,
   "metadata": {},
   "outputs": [],
   "source": [
    "pset_time = 15\n",
    "sleep_time = 8"
   ]
  },
  {
   "cell_type": "code",
   "execution_count": null,
   "metadata": {},
   "outputs": [],
   "source": [
    "print(sleep_time > pset_time)"
   ]
  },
  {
   "cell_type": "code",
   "execution_count": null,
   "metadata": {},
   "outputs": [],
   "source": [
    "drink = True\n",
    "drive = False"
   ]
  },
  {
   "cell_type": "code",
   "execution_count": null,
   "metadata": {},
   "outputs": [],
   "source": [
    "both = drink and drive"
   ]
  },
  {
   "cell_type": "code",
   "execution_count": null,
   "metadata": {},
   "outputs": [],
   "source": [
    "print(both)"
   ]
  },
  {
   "cell_type": "code",
   "execution_count": null,
   "metadata": {},
   "outputs": [],
   "source": [
    "if drink is True:\n",
    "    print(\"Drink is true\")"
   ]
  },
  {
   "cell_type": "code",
   "execution_count": null,
   "metadata": {},
   "outputs": [],
   "source": [
    "pwd = input(\"What is the Password\")\n",
    "if pwd == 'apple':\n",
    "    print('Logging on...')\n",
    "else:\n",
    "    print('Incorrect Password')\n",
    "print('All done')"
   ]
  },
  {
   "cell_type": "code",
   "execution_count": null,
   "metadata": {},
   "outputs": [],
   "source": [
    "age = int(input('How old are you?'))\n",
    "if age <= 2:\n",
    "    print('Free')\n",
    "elif 2 < age < 13:\n",
    "    print('Child fare')\n",
    "elif 13 < age < 18:\n",
    "    print('Teenage fare')\n",
    "else:\n",
    "    print('Adult fare')"
   ]
  },
  {
   "cell_type": "code",
   "execution_count": null,
   "metadata": {},
   "outputs": [],
   "source": [
    "for i in range(10):\n",
    "    print(i)"
   ]
  },
  {
   "cell_type": "code",
   "execution_count": null,
   "metadata": {},
   "outputs": [],
   "source": [
    "# range goes up to but not including the upper limit, range can also be (1,10) == (lower limit, upper limit)"
   ]
  },
  {
   "cell_type": "code",
   "execution_count": null,
   "metadata": {},
   "outputs": [],
   "source": [
    "i = 0\n",
    "while i < 10:\n",
    "    print(i)\n",
    "    i = i + 1"
   ]
  },
  {
   "cell_type": "code",
   "execution_count": null,
   "metadata": {},
   "outputs": [],
   "source": [
    "# loops increase by 1 (whole number) unless otherwise indicated by (1,10,2)\n",
    "# while loops do not increase the incrimentor unless you indicate it to. "
   ]
  },
  {
   "cell_type": "code",
   "execution_count": null,
   "metadata": {},
   "outputs": [],
   "source": [
    "while True:\n",
    "    #do something\n",
    "    #in an if statement, check on something\n",
    "    #only when true, break out of the loop\n",
    "    break"
   ]
  },
  {
   "cell_type": "code",
   "execution_count": null,
   "metadata": {},
   "outputs": [],
   "source": [
    "n = int(input('Enter a positive integer: '))\n",
    "fact = 1\n",
    "for i in range (2,n+1):\n",
    "    fact = fact*i\n",
    "print(str(n) + 'the factorial is ' +str(fact))\n",
    "\n",
    "# 4!\n",
    "# 1x2x3x4\n",
    "# factorials tel lyou the number of ways a number of things can be arranged in a line"
   ]
  },
  {
   "cell_type": "code",
   "execution_count": null,
   "metadata": {},
   "outputs": [],
   "source": [
    "#fix me\n",
    "#num = int(input('Enter a positive integer: '))\n",
    "#i = 1\n",
    "#while num < 10:\n",
    "#    fact = fact*i\n",
    "#    i += 1\n",
    "#print(str(num) + 'the factorial is ' + str(fact))"
   ]
  },
  {
   "cell_type": "code",
   "execution_count": null,
   "metadata": {},
   "outputs": [],
   "source": [
    "total = 0\n",
    "s = input('Enter a number or type done: ')\n",
    "while s != 'done':\n",
    "    num = int(s)\n",
    "    total = total + num\n",
    "    s = input('Enter a number or type done')\n",
    "print('The sum is: ' + str(total))"
   ]
  },
  {
   "cell_type": "code",
   "execution_count": 11,
   "metadata": {},
   "outputs": [
    {
     "name": "stdin",
     "output_type": "stream",
     "text": [
      "total cost of dream home:  1000000\n",
      "Annual salary:  50000\n",
      "Percent of salary being saved:  .10\n"
     ]
    },
    {
     "name": "stdout",
     "output_type": "stream",
     "text": [
      "\n",
      "Down payment goal:  250000.0 \n",
      " oof \n",
      "\n",
      "Number of months of savings until goal reached 331\n"
     ]
    }
   ],
   "source": [
    "total_cost = float(input('total cost of dream home: '))\n",
    "current_savings = 0\n",
    "annual_return = .04\n",
    "annual_salary = float(input('Annual salary: '))\n",
    "portion_saved = float(input('Percent of salary being saved: ',))\n",
    "monthly_saved = (annual_salary / 12) * portion_saved\n",
    "down_payment = total_cost * .25\n",
    "\n",
    "print()\n",
    "print('Down payment goal: ', down_payment, '\\n',)\n",
    "\n",
    "\n",
    "number_of_months = 0\n",
    "\n",
    "while current_savings < down_payment:\n",
    "    monthly_return = current_savings * (annual_return / 12)\n",
    "    current_savings += monthly_return + monthly_saved\n",
    "    number_of_months += 1\n",
    "print('Number of months of savings until goal reached', number_of_months)\n",
    "    \n",
    "\n"
   ]
  },
  {
   "cell_type": "code",
   "execution_count": null,
   "metadata": {},
   "outputs": [],
   "source": []
  },
  {
   "cell_type": "code",
   "execution_count": 12,
   "metadata": {},
   "outputs": [
    {
     "data": {
      "text/plain": [
       "32"
      ]
     },
     "execution_count": 12,
     "metadata": {},
     "output_type": "execute_result"
    }
   ],
   "source": [
    "pow(2,5)"
   ]
  },
  {
   "cell_type": "code",
   "execution_count": 13,
   "metadata": {},
   "outputs": [
    {
     "data": {
      "text/plain": [
       "1"
      ]
     },
     "execution_count": 13,
     "metadata": {},
     "output_type": "execute_result"
    }
   ],
   "source": [
    "pow(0,0)"
   ]
  },
  {
   "cell_type": "code",
   "execution_count": 14,
   "metadata": {},
   "outputs": [
    {
     "name": "stdout",
     "output_type": "stream",
     "text": [
      "Olivia\n"
     ]
    }
   ],
   "source": [
    "print('Olivia')"
   ]
  },
  {
   "cell_type": "code",
   "execution_count": 15,
   "metadata": {},
   "outputs": [
    {
     "name": "stdout",
     "output_type": "stream",
     "text": [
      "Olivia\n"
     ]
    }
   ],
   "source": [
    "x = print('Olivia')"
   ]
  },
  {
   "cell_type": "code",
   "execution_count": 16,
   "metadata": {},
   "outputs": [
    {
     "name": "stdout",
     "output_type": "stream",
     "text": [
      "None\n"
     ]
    }
   ],
   "source": [
    "print(x)"
   ]
  },
  {
   "cell_type": "code",
   "execution_count": 17,
   "metadata": {},
   "outputs": [
    {
     "data": {
      "text/plain": [
       "<function dir>"
      ]
     },
     "execution_count": 17,
     "metadata": {},
     "output_type": "execute_result"
    }
   ],
   "source": [
    "dir"
   ]
  },
  {
   "cell_type": "code",
   "execution_count": 18,
   "metadata": {},
   "outputs": [],
   "source": [
    "import math"
   ]
  },
  {
   "cell_type": "code",
   "execution_count": 20,
   "metadata": {},
   "outputs": [],
   "source": [
    "def area(radius):\n",
    "    '''\n",
    "    returns the area of a circle \n",
    "    with the given radius. \n",
    "    ex: area(5,5) output should be 95.0331..\n",
    "    '''\n",
    "    #do these ^, they are helpful for other people and when you call the help() function\n",
    "    #also a good way to document thought process\n",
    "    return math.pi*radius**2"
   ]
  },
  {
   "cell_type": "code",
   "execution_count": 21,
   "metadata": {},
   "outputs": [
    {
     "data": {
      "text/plain": [
       "3.141592653589793"
      ]
     },
     "execution_count": 21,
     "metadata": {},
     "output_type": "execute_result"
    }
   ],
   "source": [
    "area(1)"
   ]
  },
  {
   "cell_type": "code",
   "execution_count": 31,
   "metadata": {},
   "outputs": [],
   "source": [
    "def say_hello_to(name):\n",
    "    '''\n",
    "    prints hello message\n",
    "    '''\n",
    "    cap_came = name.capitalize()\n",
    "    #x = 'Hello ', cap_came, + ', how are you?'\n",
    "    return 'Hello ', cap_came, ', how are you?'\n"
   ]
  },
  {
   "cell_type": "code",
   "execution_count": 32,
   "metadata": {},
   "outputs": [
    {
     "data": {
      "text/plain": [
       "('Hello ', 'Olivia', ', how are you?')"
      ]
     },
     "execution_count": 32,
     "metadata": {},
     "output_type": "execute_result"
    }
   ],
   "source": [
    "say_hello_to('olivia')"
   ]
  },
  {
   "cell_type": "code",
   "execution_count": 33,
   "metadata": {},
   "outputs": [],
   "source": [
    "def dist(x,y,a,b):\n",
    "    s = (x-a)**2 + (y-b)**2\n",
    "    return math.sqrt(s)\n",
    "\n",
    "def rect_area(x,y,a,b):\n",
    "    width = abs(x-a)\n",
    "    height = abs(y-b)\n",
    "    return width * height"
   ]
  },
  {
   "cell_type": "code",
   "execution_count": 35,
   "metadata": {},
   "outputs": [
    {
     "name": "stdout",
     "output_type": "stream",
     "text": [
      "Hello Olivia !\n"
     ]
    }
   ],
   "source": [
    "name = 'Olivia' #global variable\n",
    "\n",
    "def say_hello():\n",
    "    print('Hello', name, '!')\n",
    "    \n",
    "say_hello()"
   ]
  },
  {
   "cell_type": "code",
   "execution_count": 45,
   "metadata": {},
   "outputs": [
    {
     "name": "stdout",
     "output_type": "stream",
     "text": [
      "Hello Olivia !\n"
     ]
    }
   ],
   "source": [
    "def change_name(new_name):\n",
    "    name = new_name\n",
    "    return name\n",
    "change_name('Madison')\n",
    "\n",
    "say_hello()\n",
    "\n",
    "# The global variable has not changed, the name change only happens locally\n",
    "# you'd have to call the funtion and tell that fucnton to change the global \n",
    "# variable to make a change outside of the fucntions local environment. \n",
    "# hence the output below vv"
   ]
  },
  {
   "cell_type": "code",
   "execution_count": 46,
   "metadata": {},
   "outputs": [],
   "source": [
    "def main():\n",
    "    pwd = input('what is the password? ')\n",
    "    if pwd == 'apple':\n",
    "        print('Logging on...')\n",
    "        say_hello()\n",
    "        change_name('Liv')\n",
    "        say_hello()\n",
    "    else:\n",
    "        print('Incorrect password')\n",
    "    print('all done')\n",
    "    "
   ]
  },
  {
   "cell_type": "code",
   "execution_count": 47,
   "metadata": {},
   "outputs": [
    {
     "name": "stdin",
     "output_type": "stream",
     "text": [
      "what is the password?  apple\n"
     ]
    },
    {
     "name": "stdout",
     "output_type": "stream",
     "text": [
      "Logging on...\n",
      "Hello Olivia !\n",
      "Hello Olivia !\n",
      "all done\n"
     ]
    }
   ],
   "source": [
    "main()"
   ]
  },
  {
   "cell_type": "code",
   "execution_count": null,
   "metadata": {},
   "outputs": [],
   "source": []
  }
 ],
 "metadata": {
  "kernelspec": {
   "display_name": "Python 3",
   "language": "python",
   "name": "python3"
  },
  "language_info": {
   "codemirror_mode": {
    "name": "ipython",
    "version": 3
   },
   "file_extension": ".py",
   "mimetype": "text/x-python",
   "name": "python",
   "nbconvert_exporter": "python",
   "pygments_lexer": "ipython3",
   "version": "3.7.3"
  }
 },
 "nbformat": 4,
 "nbformat_minor": 4
}
