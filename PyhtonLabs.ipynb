{
 "cells": [
  {
   "cell_type": "code",
   "execution_count": null,
   "metadata": {},
   "outputs": [],
   "source": [
    "total_cost = float(input('total cost of dream home: '))\n",
    "current_savings = 0\n",
    "annual_return = .04\n",
    "annual_salary = float(input('Annual salary: '))\n",
    "portion_saved = float(input('Percent of salary being saved: ',))\n",
    "monthly_saved = (annual_salary / 12) * portion_saved\n",
    "down_payment = total_cost * .25\n",
    "\n",
    "print()\n",
    "print('Down payment goal: ', down_payment, '\\n',)\n",
    "\n",
    "\n",
    "number_of_months = 0\n",
    "\n",
    "while current_savings < down_payment:\n",
    "    monthly_return = current_savings * (annual_return / 12)\n",
    "    current_savings += monthly_return + monthly_saved\n",
    "    number_of_months += 1\n",
    "print('Number of months of savings until goal reached:', number_of_months)\n",
    "    "
   ]
  },
  {
   "cell_type": "code",
   "execution_count": null,
   "metadata": {},
   "outputs": [],
   "source": [
    "# re-factor part A, complete functions mini lab, complete functions challenge lab "
   ]
  },
  {
   "cell_type": "code",
   "execution_count": null,
   "metadata": {},
   "outputs": [],
   "source": [
    "#total_cost = float(input('total cost of dream home: '))\n",
    "#current_savings = 0\n",
    "#annual_return = .04\n",
    "#annual_salary = float(input('Annual salary: '))\n",
    "#monthly_salary = annual_salary / 12\n",
    "#portion_saved = float(input('Percent of salary being saved: ',))\n",
    "#monthly_saved = monthly_salary * portion_saved\n",
    "#down_payment = total_cost * .25\n",
    "\n",
    "#number_of_months = 0\n",
    "\n",
    "def house_savings(cost, salary, saving):\n",
    "    #cost = int(input('House cost: '))\n",
    "    #salary = int(input('Annual salary: '))\n",
    "    #saving = float(input('Percent of salary saved: '))\n",
    "    monthly_salary = salary / 12\n",
    "    down_payment = cost * .25 \n",
    "    current_savings = 0\n",
    "    r = .04\n",
    "    number_of_months = 0\n",
    "    monthly_savings = monthly_salary * saving\n",
    "    while current_savings <= down_payment:\n",
    "        monthly_return = current_savings * (r / 12) + (monthly_salary * saving)\n",
    "        current_savings += monthly_return\n",
    "        number_of_months += 1       \n",
    "    print('Number of months: ', number_of_months)\n"
   ]
  },
  {
   "cell_type": "code",
   "execution_count": null,
   "metadata": {},
   "outputs": [],
   "source": [
    "house_savings(1000000, 120000, .10)"
   ]
  },
  {
   "cell_type": "code",
   "execution_count": null,
   "metadata": {},
   "outputs": [],
   "source": [
    "#Olivia Thorburn, Jacob Whyatt, James Krueger\n",
    "\n",
    "\n",
    "# Student Registration\n",
    "\n",
    "# gather student information\n",
    "first_name = input('Please enter your first name: ')\n",
    "last_name = input('Please enter your last name: ')\n",
    "birth_year = input('Please enter your birth year (YYYY): ')\n",
    "header = 'Registration Form'\n",
    "\n",
    "# create registration formatted form \n",
    "print('\\033[1m' + header, '\\n')\n",
    "print('\\033[1m' + 'First name:' + '\\033[0m' + first_name)\n",
    "print('\\033[1m' + 'Last name:' + '\\033[0m' + last_name)\n",
    "print('\\033[1m' + 'Birth year:' + '\\033[0m' + birth_year, '\\n')\n",
    "print('\\033[1m' + 'Welcome', first_name, last_name + '!')\n",
    "print('\\033[1m' + 'Your registration is complete.')\n",
    "print('\\033[1m' + 'Your temporary password is:', first_name + '*' + birth_year)"
   ]
  },
  {
   "cell_type": "code",
   "execution_count": null,
   "metadata": {},
   "outputs": [],
   "source": [
    "#Pay check calculator\n",
    "\n",
    "#gather pay and hours worked inputs from user\n",
    "hours_worked = float(input('Hours worked: '))\n",
    "hourly_rate = float(input('Hourly rate: '))\n",
    "tax_rate = .18\n",
    "\n",
    "# calculate gross pay, tax amount, and take hokme pay\n",
    "gross_pay = hours_worked * hourly_rate\n",
    "tax_amount = gross_pay * tax_rate\n",
    "take_home_pay = gross_pay - tax_amount\n",
    "\n",
    "print() #new line and header\n",
    "print('\\033[1m' + 'Pay Check Calculator', '\\n') \n",
    "\n",
    "#Display formatted hours worked and rate\n",
    "print('\\033[1m' + 'Hours worked: ' + '\\033[0m' + str(hours_worked))\n",
    "print('\\033[1m' + 'Hourly pay rate: ' + '\\033[0m' + str(hourly_rate), '\\n')\n",
    "\n",
    "#display calculations\n",
    "print('\\033[1m' + 'Gross pay: ' + str(gross_pay))\n",
    "print('\\033[1m' + 'Tax rate:', str(int(tax_rate * 100)) + '%')\n",
    "print('\\033[1m' + 'Tax Amount: ', tax_amount)\n",
    "print('\\033[1m' + 'Take Home Pay:', take_home_pay)"
   ]
  },
  {
   "cell_type": "code",
   "execution_count": null,
   "metadata": {},
   "outputs": [],
   "source": [
    "# Tip calculator\n",
    "\n",
    "# gather meal amount and desired tip amount inputs\n",
    "meal_cost = float(input('Cost of meal: '))\n",
    "tip_percent = float(input('Tip percentage (in decimal form): '))\n",
    "\n",
    "# calculate tip amount and total meal price\n",
    "tip_amount = meal_cost * tip_percent\n",
    "total_cost = meal_cost + tip_amount\n",
    "\n",
    "# dsiplay tip amount and total meal price\n",
    "print('\\n' + '\\033[1m' + 'Tip Calculator', '\\n')\n",
    "print('\\033[1m' + 'Cost of meal: ' + '\\033[0m', end='')\n",
    "print(f\"{meal_cost:.2f}\")\n",
    "print('\\033[1m' + 'Tip percent: ' + '\\033[0m' + str(int(tip_percent*100)) + '%', '\\n')\n",
    "print('\\033[1m' f\"Tip amount: {tip_amount:.2f}\")\n",
    "print('\\033[1m' f\"Total amount:  {total_cost:.2f}\")"
   ]
  },
  {
   "cell_type": "code",
   "execution_count": null,
   "metadata": {},
   "outputs": [],
   "source": [
    "# Price Comparison: \n",
    "\n",
    "price_64 = float(input(\"Price of 64 oz? \"))\n",
    "price_32 = float(input(\"Price of 32 oz? \"))\n",
    "ounces_64 = 64\n",
    "ounces_32 = 32\n",
    "price_per_ounce_64 = price_64 / ounces_64\n",
    "price_per_ounce_32 = price_32 / ounces_32\n",
    "print()\n",
    "print('\\033[1m' + \"Price Comparison\") \n",
    "print()\n",
    "print(\"Price of 64 oz size: \" + '\\033[0m' + str(price_64))\n",
    "print('\\033[1m' + \"Price of 32 oz size: \" + '\\033[0m' + str(price_32))\n",
    "print()\n",
    "print('\\033[1m' + \"Price per oz (64 oz): \" + str(round(price_per_ounce_64, 2)))\n",
    "print(\"Price per oz (32 oz): \" + str(round(price_per_ounce_32, 2)))\n",
    "\n"
   ]
  },
  {
   "cell_type": "code",
   "execution_count": null,
   "metadata": {},
   "outputs": [],
   "source": [
    "#Travel Time Calculator\n",
    "\n",
    "# Print Heading\n",
    "print(\"\\033[1m\" + \"Travel Timer Calculator\\n\")\n",
    "# User enter total miles\n",
    "miles = int(input(\"\\033[1m\" + \"Enter miles: \" + \"\\033[0m\"))\n",
    "# User enter total miles\n",
    "# Enter the speed traveled (in Miles per Hour as a whole number)\n",
    "speed = int(input(\"\\033[1m\" + \"Enter miles per hour: \" + \"\\033[0m\"))\n",
    "# Calculate estimated hours and minutes for the trip\n",
    "hours = int(miles / speed)\n",
    "minutes = miles % speed\n",
    "print(\"\\033[1m\" + \"\\nTravel Timer Calculator\")\n",
    "print(\"Hours: \", hours)\n",
    "print(\"Minutes: \", minutes)\n"
   ]
  },
  {
   "cell_type": "code",
   "execution_count": null,
   "metadata": {},
   "outputs": [],
   "source": []
  },
  {
   "cell_type": "code",
   "execution_count": null,
   "metadata": {},
   "outputs": [],
   "source": [
    "# Farm to table:\n",
    "\n",
    "fruits = ['apple', 'orange', 'banana']\n",
    "vegetables = ['tomatoes', 'carrots', 'kale'] \n",
    "\n",
    "# print('List of fruits and vegitables: ', fruits, vegetables)\n",
    "for fruit in fruits:\n",
    "    print(fruit, end = ', ')\n",
    "for veg in vegetables:\n",
    "    print(veg, end = ', ')\n"
   ]
  },
  {
   "cell_type": "code",
   "execution_count": null,
   "metadata": {},
   "outputs": [],
   "source": [
    "fruits[1:3]"
   ]
  },
  {
   "cell_type": "code",
   "execution_count": null,
   "metadata": {},
   "outputs": [],
   "source": [
    "dishes = ['tomato soup', 'carrot cake', 'kale chips']\n",
    "combined_list = [[vegetables[0], dishes[0]], [vegetables[1], dishes[1]], [vegetables[2], dishes[2]]]\n",
    "print(combined_list)"
   ]
  },
  {
   "cell_type": "code",
   "execution_count": null,
   "metadata": {},
   "outputs": [],
   "source": [
    "for item, ingredient in enumerate(combined_list):\n",
    "    print(f'Dish {item+1}: {ingredient[0]}')"
   ]
  },
  {
   "cell_type": "code",
   "execution_count": null,
   "metadata": {},
   "outputs": [],
   "source": [
    "ingredient = input(\"What Ingredient?:\")\n",
    "dishes_with_ingredient = (dishes[0] for dish in dishes if ingredient in dish)\n",
    "for dish in combined_list:\n",
    "    print(dish)\n"
   ]
  },
  {
   "cell_type": "code",
   "execution_count": null,
   "metadata": {},
   "outputs": [],
   "source": [
    "fruit_dishes = [dish for dish in dishes if any(fruit in dish for fruit in fruits)]\n",
    "print(fruit_dishes)"
   ]
  },
  {
   "cell_type": "code",
   "execution_count": null,
   "metadata": {},
   "outputs": [],
   "source": []
  },
  {
   "cell_type": "code",
   "execution_count": null,
   "metadata": {},
   "outputs": [],
   "source": [
    "def main():\n",
    "    # Prime number checker\n",
    "\n",
    "    choice = 'y'\n",
    "    number = int(input('Enter a number: '))\n",
    "    prime = True\n",
    "\n",
    "    \n",
    "    if not 0 < number <5001:\n",
    "        print('Please enter a number between 1 and 5000')\n",
    "    elif number == 1:\n",
    "        print(number, 'is not a prime number.')\n",
    "    elif number > 1:\n",
    "        factor_list = []\n",
    "        for i in range(2, number):\n",
    "            if(number % i) == 0:\n",
    "                factor_list.append(int(number/i))\n",
    "                prime = False\n",
    "    if prime = True:    \n",
    "        print(number, 'is a prime number!')\n",
    "    if not prime = True:    \n",
    "        print(number, 'is not a prime number, it is devisible by', factor_list)\n",
    "        \n",
    "if __name__ == \"__main__\":\n",
    "    main()\n"
   ]
  },
  {
   "cell_type": "code",
   "execution_count": null,
   "metadata": {},
   "outputs": [],
   "source": []
  },
  {
   "cell_type": "code",
   "execution_count": null,
   "metadata": {},
   "outputs": [],
   "source": [
    "# Farm to table attempt #2\n",
    "\n",
    "#fruits = [“apple”, “orange”, “banana”]\n",
    "#vegetables = [“tomatoes”, “carrots”,  “kale”]\n",
    "\n",
    "print('hello')"
   ]
  },
  {
   "cell_type": "code",
   "execution_count": null,
   "metadata": {},
   "outputs": [],
   "source": []
  },
  {
   "cell_type": "code",
   "execution_count": 76,
   "metadata": {},
   "outputs": [
    {
     "name": "stdout",
     "output_type": "stream",
     "text": [
      "hello\n"
     ]
    }
   ],
   "source": [
    "print('hello')"
   ]
  },
  {
   "cell_type": "code",
   "execution_count": 79,
   "metadata": {},
   "outputs": [
    {
     "name": "stdout",
     "output_type": "stream",
     "text": [
      "Fruits and vegetables ['apple', 'orange', 'banana'] ['tomatoes', 'carrots', 'kale']\n"
     ]
    }
   ],
   "source": [
    "# Farm to table attempt #2\n",
    "\n",
    "fruits = ['apple', 'orange', 'banana']\n",
    "vegetables = ['tomatoes', 'carrots',  'kale']\n",
    "\n",
    "print('Fruits and vegetables', fruits[0:], vegetables[0:])\n",
    "\n",
    "fruit_dishes = ['apple sauce', 'orange juice', 'banana bread']\n",
    "veg_dishes = ['tomato sauce', 'carrot cake', 'kale chips']\n",
    "\n",
    "combines_dishes = [fruit_dishes[0],veg_dishes[0]]"
   ]
  },
  {
   "cell_type": "code",
   "execution_count": null,
   "metadata": {},
   "outputs": [],
   "source": []
  }
 ],
 "metadata": {
  "kernelspec": {
   "display_name": "Python 3",
   "language": "python",
   "name": "python3"
  },
  "language_info": {
   "codemirror_mode": {
    "name": "ipython",
    "version": 3
   },
   "file_extension": ".py",
   "mimetype": "text/x-python",
   "name": "python",
   "nbconvert_exporter": "python",
   "pygments_lexer": "ipython3",
   "version": "3.7.3"
  }
 },
 "nbformat": 4,
 "nbformat_minor": 4
}
