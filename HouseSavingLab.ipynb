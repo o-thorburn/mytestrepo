{
 "cells": [
  {
   "cell_type": "code",
   "execution_count": 1,
   "metadata": {},
   "outputs": [],
   "source": [
    "def house_saving(cost,salary,savings):\n",
    "    # cost = int(input(\"house cost\"))\n",
    "    # salary = int(input(\"Annual salary\"))\n",
    "    # savings = float(input(\"percent of salary saved\"))\n",
    "    current_savings = 0\n",
    "    r = .04\n",
    "    months = 0\n",
    "    monthly_salary = (salary / 12)\n",
    "    portion_down_payment = (cost * .25)\n",
    "    monthly_return = current_savings * (r/12)\n",
    "    \n",
    "    while current_savings < portion_down_payment:\n",
    "        months += 1\n",
    "        monthly_return = current_savings * (r/12)\n",
    "        current_savings += monthly_return * r\n",
    "    \n",
    "    return(\"Number of months: \" + str(months))"
   ]
  },
  {
   "cell_type": "code",
   "execution_count": null,
   "metadata": {},
   "outputs": [],
   "source": [
    "annual_salary = int(input(\"Enter your annual salary: \"))\n",
    "portion_saved = float(input(\"Enter the percent of your salary to save, as a decimal: \"))\n",
    "monthly_saved = (annual_salary / 12.0) * portion_saved\n",
    "total_cost = int(input(\"Enter the cost of your dream home: \"))\n",
    "portion_down_payment = total_cost * 0.25\n",
    "current_savings = 0.0\n",
    "annual_return = 0.04\n",
    "months = 0\n",
    "while current_savings < portion_down_payment:\n",
    "    months += 1\n",
    "    monthly_return = current_savings * (annual_return / 12)\n",
    "    current_savings += monthly_return + monthly_saved\n",
    "print(\"Number of months:\", months)\n"
   ]
  }
 ],
 "metadata": {
  "kernelspec": {
   "display_name": "Python 3",
   "language": "python",
   "name": "python3"
  },
  "language_info": {
   "codemirror_mode": {
    "name": "ipython",
    "version": 3
   },
   "file_extension": ".py",
   "mimetype": "text/x-python",
   "name": "python",
   "nbconvert_exporter": "python",
   "pygments_lexer": "ipython3",
   "version": "3.7.3"
  }
 },
 "nbformat": 4,
 "nbformat_minor": 4
}
