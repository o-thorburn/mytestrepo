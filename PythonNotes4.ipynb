{
 "cells": [
  {
   "cell_type": "code",
   "execution_count": 1,
   "metadata": {},
   "outputs": [],
   "source": [
    "#analysis of data sets and dictionarries "
   ]
  },
  {
   "cell_type": "code",
   "execution_count": 1,
   "metadata": {},
   "outputs": [],
   "source": [
    "#Dictionary\n",
    "color = {'red':1, 'blue':2, 'green':3}"
   ]
  },
  {
   "cell_type": "code",
   "execution_count": 4,
   "metadata": {},
   "outputs": [
    {
     "data": {
      "text/plain": [
       "{'red': 1, 'blue': 2, 'green': 3}"
      ]
     },
     "execution_count": 4,
     "metadata": {},
     "output_type": "execute_result"
    }
   ],
   "source": [
    "color\n",
    "#order is irrelivent and will display in any order"
   ]
  },
  {
   "cell_type": "code",
   "execution_count": 5,
   "metadata": {},
   "outputs": [
    {
     "data": {
      "text/plain": [
       "3"
      ]
     },
     "execution_count": 5,
     "metadata": {},
     "output_type": "execute_result"
    }
   ],
   "source": [
    "color['green']"
   ]
  },
  {
   "cell_type": "code",
   "execution_count": 6,
   "metadata": {},
   "outputs": [],
   "source": [
    "# Dictionaries are immutable, to reference you can use dictionary.keys() or dictionary['']\n",
    "# keys have to be unique within the disctionary, can not have 2 of the same keys "
   ]
  },
  {
   "cell_type": "code",
   "execution_count": 7,
   "metadata": {},
   "outputs": [
    {
     "data": {
      "text/plain": [
       "'/home/jovyan/work/python-journey'"
      ]
     },
     "execution_count": 7,
     "metadata": {},
     "output_type": "execute_result"
    }
   ],
   "source": [
    "# will allow this environment to manipulate the files on your OS,\n",
    "# anything you can accomplish in command line you can now accomplish in the python environment. vv\n",
    "\n",
    "import os\n",
    "os.getcwd()"
   ]
  },
  {
   "cell_type": "code",
   "execution_count": 8,
   "metadata": {},
   "outputs": [
    {
     "data": {
      "text/plain": [
       "False"
      ]
     },
     "execution_count": 8,
     "metadata": {},
     "output_type": "execute_result"
    }
   ],
   "source": [
    "os.path.isfile(\"path\")"
   ]
  },
  {
   "cell_type": "code",
   "execution_count": 9,
   "metadata": {},
   "outputs": [
    {
     "data": {
      "text/plain": [
       "False"
      ]
     },
     "execution_count": 9,
     "metadata": {},
     "output_type": "execute_result"
    }
   ],
   "source": [
    "os.path.isdir(\"dir\")"
   ]
  },
  {
   "cell_type": "code",
   "execution_count": 14,
   "metadata": {},
   "outputs": [
    {
     "data": {
      "text/plain": [
       "True"
      ]
     },
     "execution_count": 14,
     "metadata": {},
     "output_type": "execute_result"
    }
   ],
   "source": [
    "# can search my specific file name\n",
    "# os.listdir(\"./\")\n",
    "os.path.isfile('/home/jovyan/work/python-journey/Lab_1.pdf')"
   ]
  },
  {
   "cell_type": "code",
   "execution_count": 16,
   "metadata": {},
   "outputs": [],
   "source": [
    "def list_cwd():\n",
    "    return os.listdir(os.getcwd())"
   ]
  },
  {
   "cell_type": "code",
   "execution_count": 17,
   "metadata": {},
   "outputs": [
    {
     "data": {
      "text/plain": [
       "['PythonNotes2.ipynb',\n",
       " 'Lab_9.pdf',\n",
       " 'Lab_18.pdf',\n",
       " 'Lab_4.pdf',\n",
       " 'Lab_16.pdf',\n",
       " 'Lab_19.pdf',\n",
       " 'Untitled.ipynb',\n",
       " 'Lab_11.pdf',\n",
       " 'Lab_15.pdf',\n",
       " 'Lab_14.pdf',\n",
       " 'Lab_10.pdf',\n",
       " 'PythonNotes1.ipynb',\n",
       " 'Lab_20.pdf',\n",
       " 'Lab_8.pdf',\n",
       " 'Lab_5.pdf',\n",
       " 'Lab_3.pdf',\n",
       " 'PyhtonNotes3.ipynb',\n",
       " 'Lab_12.pdf',\n",
       " 'Lab_6.pdf',\n",
       " 'md',\n",
       " 'Lab_7.pdf',\n",
       " 'labs',\n",
       " '.ipynb_checkpoints',\n",
       " 'PyhtonLabs.ipynb',\n",
       " 'PythonNotes4.ipynb',\n",
       " '.git',\n",
       " 'Lab_17.pdf',\n",
       " 'Lab_2.pdf',\n",
       " 'Lab_1.pdf',\n",
       " 'Lab_13.pdf',\n",
       " 'Lab_21.pdf']"
      ]
     },
     "execution_count": 17,
     "metadata": {},
     "output_type": "execute_result"
    }
   ],
   "source": [
    "list_cwd()"
   ]
  },
  {
   "cell_type": "code",
   "execution_count": 18,
   "metadata": {},
   "outputs": [],
   "source": [
    "# will return the list of files in the current working directory\n",
    "def files_cwd():\n",
    "    return [p for p in list_cwd()\n",
    "           if os.path.isfile(p)]"
   ]
  },
  {
   "cell_type": "code",
   "execution_count": 19,
   "metadata": {},
   "outputs": [],
   "source": [
    "#  will return the list of folders in the current working directory\n",
    "def folders_cwd():\n",
    "    return [p for p in list_cwd()\n",
    "           if os.path.isdir(p)]"
   ]
  },
  {
   "cell_type": "code",
   "execution_count": 21,
   "metadata": {},
   "outputs": [],
   "source": [
    "# list.py\n",
    "def list_py(path = None):\n",
    "    if path == None:\n",
    "        path = os.getcwd()\n",
    "        return[fname for fname in os.listdir(path)\n",
    "              if os.path.isfile(fname)\n",
    "              if fname.endswith('.py')]\n",
    "        "
   ]
  },
  {
   "cell_type": "code",
   "execution_count": 27,
   "metadata": {},
   "outputs": [],
   "source": [
    "# printfile.py\n",
    "def print_file1(fname):\n",
    "    f = open(fname, 'r')\n",
    "    for line in f:\n",
    "        print(line, end = '')\n",
    "    f.close() # optional"
   ]
  },
  {
   "cell_type": "code",
   "execution_count": 29,
   "metadata": {},
   "outputs": [
    {
     "data": {
      "text/plain": [
       "'/home/jovyan/work/python-journey'"
      ]
     },
     "execution_count": 29,
     "metadata": {},
     "output_type": "execute_result"
    }
   ],
   "source": [
    "os.getcwd()"
   ]
  },
  {
   "cell_type": "code",
   "execution_count": 30,
   "metadata": {},
   "outputs": [
    {
     "data": {
      "text/plain": [
       "['PythonNotes2.ipynb',\n",
       " 'Lab_9.pdf',\n",
       " 'Lab_18.pdf',\n",
       " 'Lab_4.pdf',\n",
       " 'Lab_16.pdf',\n",
       " 'Lab_19.pdf',\n",
       " 'Untitled.ipynb',\n",
       " 'Lab_11.pdf',\n",
       " 'Lab_15.pdf',\n",
       " 'Lab_14.pdf',\n",
       " 'Lab_10.pdf',\n",
       " 'PythonNotes1.ipynb',\n",
       " 'test.txt',\n",
       " 'Lab_20.pdf',\n",
       " 'Lab_8.pdf',\n",
       " 'Lab_5.pdf',\n",
       " 'Lab_3.pdf',\n",
       " 'PyhtonNotes3.ipynb',\n",
       " 'Lab_12.pdf',\n",
       " 'Lab_6.pdf',\n",
       " 'md',\n",
       " 'Lab_7.pdf',\n",
       " 'labs',\n",
       " '.ipynb_checkpoints',\n",
       " 'PyhtonLabs.ipynb',\n",
       " 'PythonNotes4.ipynb',\n",
       " '.git',\n",
       " 'Lab_17.pdf',\n",
       " 'Lab_2.pdf',\n",
       " 'Lab_1.pdf',\n",
       " 'Lab_13.pdf',\n",
       " 'Lab_21.pdf']"
      ]
     },
     "execution_count": 30,
     "metadata": {},
     "output_type": "execute_result"
    }
   ],
   "source": [
    "os.listdir()"
   ]
  },
  {
   "cell_type": "code",
   "execution_count": null,
   "metadata": {},
   "outputs": [],
   "source": [
    "# 'x' open for reading (default)\n",
    "# 'w' open for writing\n",
    "# 'a' open for appending to the end of the file\n",
    "# 'b'\n",
    "# 't'\n",
    "# '+'"
   ]
  },
  {
   "cell_type": "code",
   "execution_count": 31,
   "metadata": {},
   "outputs": [],
   "source": [
    "# printfile.py\n",
    "def print_file1(fname):\n",
    "    f = open(fname, 'r')\n",
    "    for line in f:\n",
    "        print(line, end = '')\n",
    "    f.close() # optional"
   ]
  },
  {
   "cell_type": "code",
   "execution_count": 32,
   "metadata": {},
   "outputs": [],
   "source": [
    "# write.py\n",
    "def make_story1():\n",
    "\tf = open('story.txt', 'w')\n",
    "\tf.write('Mary had a little lamb,\\n')\n",
    "\tf.write('and then she had some more.\\n')\n"
   ]
  },
  {
   "cell_type": "code",
   "execution_count": 33,
   "metadata": {},
   "outputs": [],
   "source": [
    "make_story1()"
   ]
  },
  {
   "cell_type": "code",
   "execution_count": 34,
   "metadata": {},
   "outputs": [
    {
     "data": {
      "text/plain": [
       "['PythonNotes2.ipynb',\n",
       " 'Lab_9.pdf',\n",
       " 'Lab_18.pdf',\n",
       " 'Lab_4.pdf',\n",
       " 'Lab_16.pdf',\n",
       " 'Lab_19.pdf',\n",
       " 'Untitled.ipynb',\n",
       " 'Lab_11.pdf',\n",
       " 'Lab_15.pdf',\n",
       " 'Lab_14.pdf',\n",
       " 'Lab_10.pdf',\n",
       " 'story.txt',\n",
       " 'PythonNotes1.ipynb',\n",
       " 'test.txt',\n",
       " 'Lab_20.pdf',\n",
       " 'Lab_8.pdf',\n",
       " 'Lab_5.pdf',\n",
       " 'Lab_3.pdf',\n",
       " 'PyhtonNotes3.ipynb',\n",
       " 'Lab_12.pdf',\n",
       " 'Lab_6.pdf',\n",
       " 'md',\n",
       " 'Lab_7.pdf',\n",
       " 'labs',\n",
       " '.ipynb_checkpoints',\n",
       " 'PyhtonLabs.ipynb',\n",
       " 'PythonNotes4.ipynb',\n",
       " '.git',\n",
       " 'Lab_17.pdf',\n",
       " 'Lab_2.pdf',\n",
       " 'Lab_1.pdf',\n",
       " 'Lab_13.pdf',\n",
       " 'Lab_21.pdf']"
      ]
     },
     "execution_count": 34,
     "metadata": {},
     "output_type": "execute_result"
    }
   ],
   "source": [
    "os.listdir()"
   ]
  },
  {
   "cell_type": "code",
   "execution_count": 35,
   "metadata": {},
   "outputs": [],
   "source": [
    "# Go back to dictionaries.apple.pdf slide deck to review writing and directory stuff"
   ]
  },
  {
   "cell_type": "code",
   "execution_count": 36,
   "metadata": {},
   "outputs": [],
   "source": [
    "# write2.py\n",
    "import os\n",
    "def make_story2():\n",
    "\tif os.path.isfile('story.txt'):\n",
    "\t\tprint('story.txt already exists')\n",
    "\telse:\n",
    "\t\tf = open('story.txt', 'w')\n",
    "\t\tf.write('Mary had a little lamb,\\n')\n",
    "\t\tf.write('and then she had some more.\\n')"
   ]
  },
  {
   "cell_type": "code",
   "execution_count": 37,
   "metadata": {},
   "outputs": [
    {
     "name": "stdout",
     "output_type": "stream",
     "text": [
      "story.txt already exists\n"
     ]
    }
   ],
   "source": [
    "make_story2()"
   ]
  },
  {
   "cell_type": "code",
   "execution_count": 38,
   "metadata": {},
   "outputs": [],
   "source": [
    "def add_to_story(line, fname = 'story.txt'): \n",
    "    f = open(fname, 'a')\n",
    "    f.write(line)"
   ]
  },
  {
   "cell_type": "code",
   "execution_count": 40,
   "metadata": {},
   "outputs": [],
   "source": [
    "add_to_story('its fleece was white as snow?','story.txt')"
   ]
  },
  {
   "cell_type": "code",
   "execution_count": null,
   "metadata": {},
   "outputs": [],
   "source": []
  }
 ],
 "metadata": {
  "kernelspec": {
   "display_name": "Python 3",
   "language": "python",
   "name": "python3"
  },
  "language_info": {
   "codemirror_mode": {
    "name": "ipython",
    "version": 3
   },
   "file_extension": ".py",
   "mimetype": "text/x-python",
   "name": "python",
   "nbconvert_exporter": "python",
   "pygments_lexer": "ipython3",
   "version": "3.7.3"
  }
 },
 "nbformat": 4,
 "nbformat_minor": 4
}
