{
 "cells": [
  {
   "cell_type": "code",
   "execution_count": null,
   "metadata": {},
   "outputs": [],
   "source": [
    "# Exception handling:\n",
    "# A solution to a difficult problem, an error that can be caught and handled \n",
    "# try: then: is a structure to catch errors\n",
    "# syntax error, EOL error, filenotfound error, zerodivision error, syntax error, value error,\n",
    "# error occurs --> an error has been 'raised' or 'thrown'"
   ]
  },
  {
   "cell_type": "code",
   "execution_count": null,
   "metadata": {},
   "outputs": [],
   "source": [
    "raise IOError('This is a test for manually raising an exception')"
   ]
  },
  {
   "cell_type": "code",
   "execution_count": null,
   "metadata": {},
   "outputs": [],
   "source": [
    "# http://docs.python.org/3/library/exceptions.html  # Built-in exceptions, save link\n",
    "# http://docs.python.org/3/library/functions.html  # Built-in fucnctions, save link\n",
    "# 1. Ignore the ecxeption and let the app crash with the traceback\n",
    "# 2. Catch the error/ exception and print a friendly resopnse"
   ]
  },
  {
   "cell_type": "code",
   "execution_count": null,
   "metadata": {},
   "outputs": [],
   "source": [
    "def get_age():\n",
    "    while True:\n",
    "        try:\n",
    "            n = int(input(\"How old are you?: \"))\n",
    "            return n\n",
    "        except ValueError:\n",
    "            print(\"Please enter an integer value.\") # because of the while true part, it will loop back up to the try block"
   ]
  },
  {
   "cell_type": "code",
   "execution_count": null,
   "metadata": {},
   "outputs": [],
   "source": [
    "get_age()"
   ]
  },
  {
   "cell_type": "code",
   "execution_count": null,
   "metadata": {},
   "outputs": [],
   "source": [
    "# with a try and except blcok, if the code in the try block is usccessful, the except block will be ignored\n",
    "# if the try block errors, the except block will catch the error, print/ do something, and can loop back up to try\n",
    "#"
   ]
  },
  {
   "cell_type": "code",
   "execution_count": null,
   "metadata": {},
   "outputs": [],
   "source": [
    "def convert_to_int1(s,base):\n",
    "    try:\n",
    "        return int(s,base)\n",
    "    except(ValueError,TypeError):\n",
    "        return 'error'\n"
   ]
  },
  {
   "cell_type": "code",
   "execution_count": null,
   "metadata": {},
   "outputs": [],
   "source": [
    "convert_to_int1(2,10)"
   ]
  },
  {
   "cell_type": "code",
   "execution_count": 2,
   "metadata": {},
   "outputs": [],
   "source": [
    "def convert_to_int2(s,base):\n",
    "    try:\n",
    "        return int(s,base)\n",
    "    except ValueError:\n",
    "        print('value error')\n",
    "        return 'value error'\n",
    "    except TypeError:\n",
    "        print(\"type error\")\n",
    "        return 'type error'\n",
    "    "
   ]
  },
  {
   "cell_type": "code",
   "execution_count": 3,
   "metadata": {},
   "outputs": [
    {
     "name": "stdout",
     "output_type": "stream",
     "text": [
      "value error\n"
     ]
    },
    {
     "data": {
      "text/plain": [
       "'value error'"
      ]
     },
     "execution_count": 3,
     "metadata": {},
     "output_type": "execute_result"
    }
   ],
   "source": [
    "convert_to_int2('two', 10)"
   ]
  },
  {
   "cell_type": "code",
   "execution_count": null,
   "metadata": {},
   "outputs": [],
   "source": [
    "# finally blaock\n",
    "\n",
    "def invert(x):\n",
    "    try:\n",
    "        return 1/x\n",
    "    except ZeroDivisionError:\n",
    "        return 'error'\n",
    "    finally:\n",
    "        print('invert(%s) done' % x)"
   ]
  },
  {
   "cell_type": "code",
   "execution_count": null,
   "metadata": {},
   "outputs": [],
   "source": [
    "invert(5)"
   ]
  },
  {
   "cell_type": "code",
   "execution_count": null,
   "metadata": {},
   "outputs": [],
   "source": [
    "invert(0)"
   ]
  },
  {
   "cell_type": "code",
   "execution_count": null,
   "metadata": {},
   "outputs": [],
   "source": [
    "# if statements related to exceptions, fname is not an actual document, just an example\n",
    "num = 1\n",
    "f = open(fname)\n",
    "\n",
    "for line in f:\n",
    "    print(num, line, end = '')"
   ]
  },
  {
   "cell_type": "code",
   "execution_count": null,
   "metadata": {},
   "outputs": [],
   "source": [
    "with open(fname, 'r') as file:\n",
    "    for line in f:\n",
    "        print(num, line, end = '')\n",
    "        num = nnm + 1"
   ]
  },
  {
   "cell_type": "code",
   "execution_count": null,
   "metadata": {},
   "outputs": [],
   "source": [
    "#* the 'Exception as e' portion is to print out context to the error so troubleshooting can be done. \n",
    "\n",
    "try:\n",
    "    number = int(input(\"Enter an integer: \"))\n",
    "    print(f\"You entered a valid integer of {number}.\")\n",
    "except Exception as e:\n",
    "    print(e)\n",
    "    print(\"You entered an invalid integer. Please try again.\")\n",
    "print(\"Thanks!\")\n"
   ]
  },
  {
   "cell_type": "code",
   "execution_count": null,
   "metadata": {},
   "outputs": [],
   "source": [
    "#examplke of making program more robust with exceptions and while loops\n",
    "def get_price():\n",
    "    while True:\n",
    "        try:\n",
    "            price = float(input(\"Enter price: \"))\n",
    "            return price\n",
    "        except ValueError:\n",
    "            print(\"Invalid decimal number. Please try again.\")\n",
    " \n",
    "def get_quantity():\n",
    "    while True:\n",
    "        try:\n",
    "            quantity = int(input(\"Enter quantity: \"))\n",
    "            return quantity\n",
    "        except ValueError:\n",
    "            print(\"Invalid integer. Please try again.\")\n",
    "def main():\n",
    "    print(\"The Total Calculator program\\n\")\n",
    " \n",
    "    # get the price and quantity\n",
    "    price = get_price()\n",
    "    quantity = get_quantity()\n",
    "    \n",
    "    # calculate the total\n",
    "    total = price * quantity\n",
    " \n",
    "    # display the results\n",
    "    print()\n",
    "    print(\"PRICE:    \", price)\n",
    "    print(\"QUANTITY: \", quantity)\n",
    "    print(\"TOTAL:    \", total)\n",
    " \n",
    "if __name__ == \"__main__\":\n",
    "    main()            \n",
    "            \n"
   ]
  },
  {
   "cell_type": "code",
   "execution_count": null,
   "metadata": {},
   "outputs": [],
   "source": [
    "import sys\n",
    "\n",
    "filename = input(\"Enter filename: \")\n",
    "movies = []\n",
    "try:\n",
    "    with open(filename) as file:\n",
    "        for line in file:\n",
    "            line = line.replace(\"\\n\", \"\")\n",
    "            movies.append(line)\n",
    "except FileNotFoundError:\n",
    "    print(f\"Could not find the file named {filename}\")\n",
    "except OSError:\n",
    "    print(\"File found - error reading file\")\n",
    "except Exception:\n",
    "    print(\"An unexpected error occurred\")\n"
   ]
  },
  {
   "cell_type": "code",
   "execution_count": 1,
   "metadata": {},
   "outputs": [
    {
     "name": "stdout",
     "output_type": "stream",
     "text": [
      "The Movie List program\n",
      "\n",
      "COMMAND MENU\n",
      "list - List all movies\n",
      "add -  Add a movie\n",
      "del -  Delete a movie\n",
      "exit - Exit program\n",
      "\n"
     ]
    },
    {
     "name": "stdin",
     "output_type": "stream",
     "text": [
      "Command:  John Wick\n"
     ]
    },
    {
     "name": "stdout",
     "output_type": "stream",
     "text": [
      "Not a valid command. Please try again.\n",
      "\n"
     ]
    },
    {
     "name": "stdin",
     "output_type": "stream",
     "text": [
      "Command:  add\n",
      "Movie:  John Wick\n"
     ]
    },
    {
     "name": "stdout",
     "output_type": "stream",
     "text": [
      "John Wick was added.\n",
      "\n"
     ]
    },
    {
     "ename": "NameError",
     "evalue": "name 'index' is not defined",
     "output_type": "error",
     "traceback": [
      "\u001b[0;31m---------------------------------------------------------------------------\u001b[0m",
      "\u001b[0;31mNameError\u001b[0m                                 Traceback (most recent call last)",
      "\u001b[0;32m<ipython-input-1-d5cbeef42d52>\u001b[0m in \u001b[0;36m<module>\u001b[0;34m\u001b[0m\n\u001b[1;32m     80\u001b[0m \u001b[0;34m\u001b[0m\u001b[0m\n\u001b[1;32m     81\u001b[0m \u001b[0;32mif\u001b[0m \u001b[0m__name__\u001b[0m \u001b[0;34m==\u001b[0m \u001b[0;34m\"__main__\"\u001b[0m\u001b[0;34m:\u001b[0m\u001b[0;34m\u001b[0m\u001b[0;34m\u001b[0m\u001b[0m\n\u001b[0;32m---> 82\u001b[0;31m     \u001b[0mmain\u001b[0m\u001b[0;34m(\u001b[0m\u001b[0;34m)\u001b[0m\u001b[0;34m\u001b[0m\u001b[0;34m\u001b[0m\u001b[0m\n\u001b[0m",
      "\u001b[0;32m<ipython-input-1-d5cbeef42d52>\u001b[0m in \u001b[0;36mmain\u001b[0;34m()\u001b[0m\n\u001b[1;32m     70\u001b[0m             \u001b[0mlist_movies\u001b[0m\u001b[0;34m(\u001b[0m\u001b[0mmovies\u001b[0m\u001b[0;34m)\u001b[0m\u001b[0;34m\u001b[0m\u001b[0;34m\u001b[0m\u001b[0m\n\u001b[1;32m     71\u001b[0m         \u001b[0;32melif\u001b[0m \u001b[0mcommand\u001b[0m\u001b[0;34m.\u001b[0m\u001b[0mlower\u001b[0m\u001b[0;34m(\u001b[0m\u001b[0;34m)\u001b[0m \u001b[0;34m==\u001b[0m \u001b[0;34m\"add\"\u001b[0m\u001b[0;34m:\u001b[0m\u001b[0;34m\u001b[0m\u001b[0;34m\u001b[0m\u001b[0m\n\u001b[0;32m---> 72\u001b[0;31m             \u001b[0madd_movie\u001b[0m\u001b[0;34m(\u001b[0m\u001b[0mmovies\u001b[0m\u001b[0;34m)\u001b[0m\u001b[0;34m\u001b[0m\u001b[0;34m\u001b[0m\u001b[0m\n\u001b[0m\u001b[1;32m     73\u001b[0m         \u001b[0;32melif\u001b[0m \u001b[0mcommand\u001b[0m\u001b[0;34m.\u001b[0m\u001b[0mlower\u001b[0m\u001b[0;34m(\u001b[0m\u001b[0;34m)\u001b[0m \u001b[0;34m==\u001b[0m \u001b[0;34m\"del\"\u001b[0m\u001b[0;34m:\u001b[0m\u001b[0;34m\u001b[0m\u001b[0;34m\u001b[0m\u001b[0m\n\u001b[1;32m     74\u001b[0m             \u001b[0mdelete_movie\u001b[0m\u001b[0;34m(\u001b[0m\u001b[0mmovies\u001b[0m\u001b[0;34m)\u001b[0m\u001b[0;34m\u001b[0m\u001b[0;34m\u001b[0m\u001b[0m\n",
      "\u001b[0;32m<ipython-input-1-d5cbeef42d52>\u001b[0m in \u001b[0;36madd_movie\u001b[0;34m(movies)\u001b[0m\n\u001b[1;32m     59\u001b[0m     \u001b[0mprint\u001b[0m\u001b[0;34m(\u001b[0m\u001b[0;34mf\"{movie} was added.\\n\"\u001b[0m\u001b[0;34m)\u001b[0m\u001b[0;34m\u001b[0m\u001b[0;34m\u001b[0m\u001b[0m\n\u001b[1;32m     60\u001b[0m \u001b[0;34m\u001b[0m\u001b[0m\n\u001b[0;32m---> 61\u001b[0;31m     \u001b[0mmovie\u001b[0m \u001b[0;34m=\u001b[0m \u001b[0mmovies\u001b[0m\u001b[0;34m.\u001b[0m\u001b[0mpop\u001b[0m\u001b[0;34m(\u001b[0m\u001b[0mindex\u001b[0m \u001b[0;34m-\u001b[0m \u001b[0;36m1\u001b[0m\u001b[0;34m)\u001b[0m\u001b[0;34m\u001b[0m\u001b[0;34m\u001b[0m\u001b[0m\n\u001b[0m\u001b[1;32m     62\u001b[0m     \u001b[0mwrite_movies\u001b[0m\u001b[0;34m(\u001b[0m\u001b[0mmovies\u001b[0m\u001b[0;34m)\u001b[0m\u001b[0;34m\u001b[0m\u001b[0;34m\u001b[0m\u001b[0m\n\u001b[1;32m     63\u001b[0m     \u001b[0mprint\u001b[0m\u001b[0;34m(\u001b[0m\u001b[0;34mf\"{movie[0]} was deleted.\\n\"\u001b[0m\u001b[0;34m)\u001b[0m\u001b[0;34m\u001b[0m\u001b[0;34m\u001b[0m\u001b[0m\n",
      "\u001b[0;31mNameError\u001b[0m: name 'index' is not defined"
     ]
    }
   ],
   "source": [
    "import csv\n",
    "import sys\n",
    " \n",
    "FILENAME = \"movies.csv\"\n",
    " \n",
    "def read_movies():\n",
    "    try:\n",
    "        movies = []\n",
    "        with open(FILENAME, newline=\"\") as file:\n",
    "            reader = csv.reader(file)\n",
    "            for row in reader:\n",
    "                movies.append(row)\n",
    "        return movies\n",
    "    except FileNotFoundError:\n",
    "        print(f\"Could not find {FILENAME} file.\")\n",
    "        exit_program()\n",
    "    except Exception as e:\n",
    "        print(type(e), e)\n",
    "        exit_program()\n",
    "def write_movies(movies):\n",
    "    try:\n",
    "        with open(FILENAME, \"w\", newline=\"\") as file:\n",
    "            writer = csv.writer(file)\n",
    "            writer.writerows(movies)\n",
    "    except Exception as e:\n",
    "        print(type(e), e)\n",
    "        exit_program()\n",
    "def exit_program():\n",
    "    print(\"Terminating program.\")\n",
    "    sys.exit()\n",
    "    \n",
    "def display_menu():\n",
    "    print(\"The Movie List program\")\n",
    "    print()\n",
    "    print(\"COMMAND MENU\")\n",
    "    print(\"list - List all movies\")\n",
    "    print(\"add -  Add a movie\")\n",
    "    print(\"del -  Delete a movie\")\n",
    "    print(\"exit - Exit program\")\n",
    "    print()\n",
    "def delete_movie(movies):\n",
    "    while True:\n",
    "        try:\n",
    "            index = int(input(\"Number: \"))\n",
    "        except ValueError:\n",
    "            print(\"Invalid integer. Please try again.\")\n",
    "            continue\n",
    " \n",
    "        if index < 1 or index > len(movies):\n",
    "            print(\"There is no movie with that number. \" +\n",
    "                  \"Please try again.\")\n",
    "        else:\n",
    "            break\n",
    "            \n",
    "def add_movie(movies):\n",
    "    movie = input(\"Movie: \")\n",
    "    movies.append(movie)\n",
    "    write_movies(movies)\n",
    "    print(f\"{movie} was added.\\n\")\n",
    " \n",
    "    movie = movies.pop(index - 1)\n",
    "    write_movies(movies)\n",
    "    print(f\"{movie[0]} was deleted.\\n\")\n",
    "def main():\n",
    "    display_menu()\n",
    "    movies = read_movies()\n",
    "    while True:        \n",
    "        command = input(\"Command: \")\n",
    "        if command.lower() == \"list\":\n",
    "            list_movies(movies)\n",
    "        elif command.lower() == \"add\":\n",
    "            add_movie(movies)\n",
    "        elif command.lower() == \"del\":\n",
    "            delete_movie(movies)\n",
    "        elif command.lower() == \"exit\":\n",
    "            break\n",
    "        else:\n",
    "            print(\"Not a valid command. Please try again.\\n\")\n",
    "    print(\"Bye!\")\n",
    "\n",
    "if __name__ == \"__main__\":\n",
    "    main()        "
   ]
  },
  {
   "cell_type": "code",
   "execution_count": null,
   "metadata": {},
   "outputs": [],
   "source": [
    "main()"
   ]
  },
  {
   "cell_type": "code",
   "execution_count": null,
   "metadata": {},
   "outputs": [],
   "source": []
  }
 ],
 "metadata": {
  "kernelspec": {
   "display_name": "Python 3",
   "language": "python",
   "name": "python3"
  },
  "language_info": {
   "codemirror_mode": {
    "name": "ipython",
    "version": 3
   },
   "file_extension": ".py",
   "mimetype": "text/x-python",
   "name": "python",
   "nbconvert_exporter": "python",
   "pygments_lexer": "ipython3",
   "version": "3.7.3"
  }
 },
 "nbformat": 4,
 "nbformat_minor": 4
}
